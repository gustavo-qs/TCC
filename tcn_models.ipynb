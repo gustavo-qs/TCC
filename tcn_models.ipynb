{
  "cells": [
    {
      "cell_type": "markdown",
      "metadata": {
        "id": "mSdwdSXUhAbW"
      },
      "source": [
        "# Temporal Convolutional Network used for prediction on time series\n"
      ]
    },
    {
      "cell_type": "code",
      "source": [
        "!pip install darts"
      ],
      "metadata": {
        "colab": {
          "base_uri": "https://localhost:8080/"
        },
        "id": "fqpDRvPBhLW8",
        "outputId": "965f8b82-9c2d-4e9a-e6b3-9f6af20f20d1"
      },
      "execution_count": null,
      "outputs": [
        {
          "output_type": "stream",
          "name": "stdout",
          "text": [
            "Collecting darts\n",
            "  Downloading darts-0.26.0-py3-none-any.whl (784 kB)\n",
            "\u001b[2K     \u001b[90m━━━━━━━━━━━━━━━━━━━━━━━━━━━━━━━━━━━━━━━━\u001b[0m \u001b[32m784.8/784.8 kB\u001b[0m \u001b[31m4.7 MB/s\u001b[0m eta \u001b[36m0:00:00\u001b[0m\n",
            "\u001b[?25hRequirement already satisfied: holidays>=0.11.1 in /usr/local/lib/python3.10/dist-packages (from darts) (0.35)\n",
            "Requirement already satisfied: joblib>=0.16.0 in /usr/local/lib/python3.10/dist-packages (from darts) (1.3.2)\n",
            "Requirement already satisfied: matplotlib>=3.3.0 in /usr/local/lib/python3.10/dist-packages (from darts) (3.7.1)\n",
            "Collecting nfoursid>=1.0.0 (from darts)\n",
            "  Downloading nfoursid-1.0.1-py3-none-any.whl (16 kB)\n",
            "Requirement already satisfied: numpy>=1.19.0 in /usr/local/lib/python3.10/dist-packages (from darts) (1.23.5)\n",
            "Collecting pmdarima>=1.8.0 (from darts)\n",
            "  Downloading pmdarima-2.0.4-cp310-cp310-manylinux_2_17_x86_64.manylinux2014_x86_64.manylinux_2_28_x86_64.whl (2.1 MB)\n",
            "\u001b[2K     \u001b[90m━━━━━━━━━━━━━━━━━━━━━━━━━━━━━━━━━━━━━━━━\u001b[0m \u001b[32m2.1/2.1 MB\u001b[0m \u001b[31m16.0 MB/s\u001b[0m eta \u001b[36m0:00:00\u001b[0m\n",
            "\u001b[?25hCollecting pyod>=0.9.5 (from darts)\n",
            "  Downloading pyod-1.1.1.tar.gz (159 kB)\n",
            "\u001b[2K     \u001b[90m━━━━━━━━━━━━━━━━━━━━━━━━━━━━━━━━━━━━━━━━\u001b[0m \u001b[32m159.4/159.4 kB\u001b[0m \u001b[31m14.3 MB/s\u001b[0m eta \u001b[36m0:00:00\u001b[0m\n",
            "\u001b[?25h  Preparing metadata (setup.py) ... \u001b[?25l\u001b[?25hdone\n",
            "Requirement already satisfied: requests>=2.22.0 in /usr/local/lib/python3.10/dist-packages (from darts) (2.31.0)\n",
            "Requirement already satisfied: scikit-learn>=1.0.1 in /usr/local/lib/python3.10/dist-packages (from darts) (1.2.2)\n",
            "Requirement already satisfied: scipy>=1.3.2 in /usr/local/lib/python3.10/dist-packages (from darts) (1.11.3)\n",
            "Collecting shap>=0.40.0 (from darts)\n",
            "  Downloading shap-0.43.0-cp310-cp310-manylinux_2_12_x86_64.manylinux2010_x86_64.manylinux_2_17_x86_64.manylinux2014_x86_64.whl (532 kB)\n",
            "\u001b[2K     \u001b[90m━━━━━━━━━━━━━━━━━━━━━━━━━━━━━━━━━━━━━━━━\u001b[0m \u001b[32m532.9/532.9 kB\u001b[0m \u001b[31m20.2 MB/s\u001b[0m eta \u001b[36m0:00:00\u001b[0m\n",
            "\u001b[?25hCollecting statsforecast>=1.4 (from darts)\n",
            "  Downloading statsforecast-1.6.0-py3-none-any.whl (110 kB)\n",
            "\u001b[2K     \u001b[90m━━━━━━━━━━━━━━━━━━━━━━━━━━━━━━━━━━━━━━━━\u001b[0m \u001b[32m110.9/110.9 kB\u001b[0m \u001b[31m13.7 MB/s\u001b[0m eta \u001b[36m0:00:00\u001b[0m\n",
            "\u001b[?25hRequirement already satisfied: statsmodels>=0.14.0 in /usr/local/lib/python3.10/dist-packages (from darts) (0.14.0)\n",
            "Collecting tbats>=1.1.0 (from darts)\n",
            "  Downloading tbats-1.1.3-py3-none-any.whl (44 kB)\n",
            "\u001b[2K     \u001b[90m━━━━━━━━━━━━━━━━━━━━━━━━━━━━━━━━━━━━━━━━\u001b[0m \u001b[32m44.0/44.0 kB\u001b[0m \u001b[31m5.4 MB/s\u001b[0m eta \u001b[36m0:00:00\u001b[0m\n",
            "\u001b[?25hRequirement already satisfied: tqdm>=4.60.0 in /usr/local/lib/python3.10/dist-packages (from darts) (4.66.1)\n",
            "Requirement already satisfied: typing-extensions in /usr/local/lib/python3.10/dist-packages (from darts) (4.5.0)\n",
            "Requirement already satisfied: xarray>=0.17.0 in /usr/local/lib/python3.10/dist-packages (from darts) (2023.7.0)\n",
            "Requirement already satisfied: xgboost>=1.6.0 in /usr/local/lib/python3.10/dist-packages (from darts) (2.0.1)\n",
            "Collecting pytorch-lightning>=1.5.0 (from darts)\n",
            "  Downloading pytorch_lightning-2.1.0-py3-none-any.whl (774 kB)\n",
            "\u001b[2K     \u001b[90m━━━━━━━━━━━━━━━━━━━━━━━━━━━━━━━━━━━━━━━━\u001b[0m \u001b[32m774.6/774.6 kB\u001b[0m \u001b[31m27.9 MB/s\u001b[0m eta \u001b[36m0:00:00\u001b[0m\n",
            "\u001b[?25hCollecting tensorboardX>=2.1 (from darts)\n",
            "  Downloading tensorboardX-2.6.2.2-py2.py3-none-any.whl (101 kB)\n",
            "\u001b[2K     \u001b[90m━━━━━━━━━━━━━━━━━━━━━━━━━━━━━━━━━━━━━━━━\u001b[0m \u001b[32m101.7/101.7 kB\u001b[0m \u001b[31m13.4 MB/s\u001b[0m eta \u001b[36m0:00:00\u001b[0m\n",
            "\u001b[?25hRequirement already satisfied: torch>=1.8.0 in /usr/local/lib/python3.10/dist-packages (from darts) (2.1.0+cu118)\n",
            "Requirement already satisfied: pandas>=1.0.5 in /usr/local/lib/python3.10/dist-packages (from darts) (1.5.3)\n",
            "Requirement already satisfied: python-dateutil in /usr/local/lib/python3.10/dist-packages (from holidays>=0.11.1->darts) (2.8.2)\n",
            "Requirement already satisfied: contourpy>=1.0.1 in /usr/local/lib/python3.10/dist-packages (from matplotlib>=3.3.0->darts) (1.1.1)\n",
            "Requirement already satisfied: cycler>=0.10 in /usr/local/lib/python3.10/dist-packages (from matplotlib>=3.3.0->darts) (0.12.1)\n",
            "Requirement already satisfied: fonttools>=4.22.0 in /usr/local/lib/python3.10/dist-packages (from matplotlib>=3.3.0->darts) (4.43.1)\n",
            "Requirement already satisfied: kiwisolver>=1.0.1 in /usr/local/lib/python3.10/dist-packages (from matplotlib>=3.3.0->darts) (1.4.5)\n",
            "Requirement already satisfied: packaging>=20.0 in /usr/local/lib/python3.10/dist-packages (from matplotlib>=3.3.0->darts) (23.2)\n",
            "Requirement already satisfied: pillow>=6.2.0 in /usr/local/lib/python3.10/dist-packages (from matplotlib>=3.3.0->darts) (9.4.0)\n",
            "Requirement already satisfied: pyparsing>=2.3.1 in /usr/local/lib/python3.10/dist-packages (from matplotlib>=3.3.0->darts) (3.1.1)\n",
            "Requirement already satisfied: pytz>=2020.1 in /usr/local/lib/python3.10/dist-packages (from pandas>=1.0.5->darts) (2023.3.post1)\n",
            "Requirement already satisfied: Cython!=0.29.18,!=0.29.31,>=0.29 in /usr/local/lib/python3.10/dist-packages (from pmdarima>=1.8.0->darts) (3.0.4)\n",
            "Requirement already satisfied: urllib3 in /usr/local/lib/python3.10/dist-packages (from pmdarima>=1.8.0->darts) (2.0.7)\n",
            "Requirement already satisfied: setuptools!=50.0.0,>=38.6.0 in /usr/local/lib/python3.10/dist-packages (from pmdarima>=1.8.0->darts) (67.7.2)\n",
            "Requirement already satisfied: numba>=0.51 in /usr/local/lib/python3.10/dist-packages (from pyod>=0.9.5->darts) (0.56.4)\n",
            "Requirement already satisfied: six in /usr/local/lib/python3.10/dist-packages (from pyod>=0.9.5->darts) (1.16.0)\n",
            "Requirement already satisfied: PyYAML>=5.4 in /usr/local/lib/python3.10/dist-packages (from pytorch-lightning>=1.5.0->darts) (6.0.1)\n",
            "Requirement already satisfied: fsspec[http]>2021.06.0 in /usr/local/lib/python3.10/dist-packages (from pytorch-lightning>=1.5.0->darts) (2023.6.0)\n",
            "Collecting torchmetrics>=0.7.0 (from pytorch-lightning>=1.5.0->darts)\n",
            "  Downloading torchmetrics-1.2.0-py3-none-any.whl (805 kB)\n",
            "\u001b[2K     \u001b[90m━━━━━━━━━━━━━━━━━━━━━━━━━━━━━━━━━━━━━━━━\u001b[0m \u001b[32m805.2/805.2 kB\u001b[0m \u001b[31m36.4 MB/s\u001b[0m eta \u001b[36m0:00:00\u001b[0m\n",
            "\u001b[?25hCollecting lightning-utilities>=0.8.0 (from pytorch-lightning>=1.5.0->darts)\n",
            "  Downloading lightning_utilities-0.9.0-py3-none-any.whl (23 kB)\n",
            "Requirement already satisfied: charset-normalizer<4,>=2 in /usr/local/lib/python3.10/dist-packages (from requests>=2.22.0->darts) (3.3.1)\n",
            "Requirement already satisfied: idna<4,>=2.5 in /usr/local/lib/python3.10/dist-packages (from requests>=2.22.0->darts) (3.4)\n",
            "Requirement already satisfied: certifi>=2017.4.17 in /usr/local/lib/python3.10/dist-packages (from requests>=2.22.0->darts) (2023.7.22)\n",
            "Requirement already satisfied: threadpoolctl>=2.0.0 in /usr/local/lib/python3.10/dist-packages (from scikit-learn>=1.0.1->darts) (3.2.0)\n",
            "Collecting slicer==0.0.7 (from shap>=0.40.0->darts)\n",
            "  Downloading slicer-0.0.7-py3-none-any.whl (14 kB)\n",
            "Requirement already satisfied: cloudpickle in /usr/local/lib/python3.10/dist-packages (from shap>=0.40.0->darts) (2.2.1)\n",
            "Requirement already satisfied: polars in /usr/local/lib/python3.10/dist-packages (from statsforecast>=1.4->darts) (0.17.3)\n",
            "Collecting fugue>=0.8.1 (from statsforecast>=1.4->darts)\n",
            "  Downloading fugue-0.8.6-py3-none-any.whl (275 kB)\n",
            "\u001b[2K     \u001b[90m━━━━━━━━━━━━━━━━━━━━━━━━━━━━━━━━━━━━━━━━\u001b[0m \u001b[32m275.0/275.0 kB\u001b[0m \u001b[31m25.6 MB/s\u001b[0m eta \u001b[36m0:00:00\u001b[0m\n",
            "\u001b[?25hRequirement already satisfied: patsy>=0.5.2 in /usr/local/lib/python3.10/dist-packages (from statsmodels>=0.14.0->darts) (0.5.3)\n",
            "Requirement already satisfied: protobuf>=3.20 in /usr/local/lib/python3.10/dist-packages (from tensorboardX>=2.1->darts) (3.20.3)\n",
            "Requirement already satisfied: filelock in /usr/local/lib/python3.10/dist-packages (from torch>=1.8.0->darts) (3.12.4)\n",
            "Requirement already satisfied: sympy in /usr/local/lib/python3.10/dist-packages (from torch>=1.8.0->darts) (1.12)\n",
            "Requirement already satisfied: networkx in /usr/local/lib/python3.10/dist-packages (from torch>=1.8.0->darts) (3.2)\n",
            "Requirement already satisfied: jinja2 in /usr/local/lib/python3.10/dist-packages (from torch>=1.8.0->darts) (3.1.2)\n",
            "Requirement already satisfied: triton==2.1.0 in /usr/local/lib/python3.10/dist-packages (from torch>=1.8.0->darts) (2.1.0)\n",
            "Requirement already satisfied: aiohttp!=4.0.0a0,!=4.0.0a1 in /usr/local/lib/python3.10/dist-packages (from fsspec[http]>2021.06.0->pytorch-lightning>=1.5.0->darts) (3.8.6)\n",
            "Collecting triad>=0.9.1 (from fugue>=0.8.1->statsforecast>=1.4->darts)\n",
            "  Downloading triad-0.9.1-py3-none-any.whl (57 kB)\n",
            "\u001b[2K     \u001b[90m━━━━━━━━━━━━━━━━━━━━━━━━━━━━━━━━━━━━━━━━\u001b[0m \u001b[32m57.0/57.0 kB\u001b[0m \u001b[31m7.5 MB/s\u001b[0m eta \u001b[36m0:00:00\u001b[0m\n",
            "\u001b[?25hCollecting adagio>=0.2.4 (from fugue>=0.8.1->statsforecast>=1.4->darts)\n",
            "  Downloading adagio-0.2.4-py3-none-any.whl (26 kB)\n",
            "Requirement already satisfied: pyarrow>=0.15.1 in /usr/local/lib/python3.10/dist-packages (from fugue>=0.8.1->statsforecast>=1.4->darts) (9.0.0)\n",
            "Collecting qpd>=0.4.4 (from fugue>=0.8.1->statsforecast>=1.4->darts)\n",
            "  Downloading qpd-0.4.4-py3-none-any.whl (169 kB)\n",
            "\u001b[2K     \u001b[90m━━━━━━━━━━━━━━━━━━━━━━━━━━━━━━━━━━━━━━━━\u001b[0m \u001b[32m169.2/169.2 kB\u001b[0m \u001b[31m21.1 MB/s\u001b[0m eta \u001b[36m0:00:00\u001b[0m\n",
            "\u001b[?25hCollecting fugue-sql-antlr>=0.1.6 (from fugue>=0.8.1->statsforecast>=1.4->darts)\n",
            "  Downloading fugue-sql-antlr-0.1.8.tar.gz (154 kB)\n",
            "\u001b[2K     \u001b[90m━━━━━━━━━━━━━━━━━━━━━━━━━━━━━━━━━━━━━━━━\u001b[0m \u001b[32m154.7/154.7 kB\u001b[0m \u001b[31m20.1 MB/s\u001b[0m eta \u001b[36m0:00:00\u001b[0m\n",
            "\u001b[?25h  Preparing metadata (setup.py) ... \u001b[?25l\u001b[?25hdone\n",
            "Requirement already satisfied: sqlglot in /usr/local/lib/python3.10/dist-packages (from fugue>=0.8.1->statsforecast>=1.4->darts) (17.16.2)\n",
            "Requirement already satisfied: llvmlite<0.40,>=0.39.0dev0 in /usr/local/lib/python3.10/dist-packages (from numba>=0.51->pyod>=0.9.5->darts) (0.39.1)\n",
            "Requirement already satisfied: MarkupSafe>=2.0 in /usr/local/lib/python3.10/dist-packages (from jinja2->torch>=1.8.0->darts) (2.1.3)\n",
            "Requirement already satisfied: mpmath>=0.19 in /usr/local/lib/python3.10/dist-packages (from sympy->torch>=1.8.0->darts) (1.3.0)\n",
            "Requirement already satisfied: attrs>=17.3.0 in /usr/local/lib/python3.10/dist-packages (from aiohttp!=4.0.0a0,!=4.0.0a1->fsspec[http]>2021.06.0->pytorch-lightning>=1.5.0->darts) (23.1.0)\n",
            "Requirement already satisfied: multidict<7.0,>=4.5 in /usr/local/lib/python3.10/dist-packages (from aiohttp!=4.0.0a0,!=4.0.0a1->fsspec[http]>2021.06.0->pytorch-lightning>=1.5.0->darts) (6.0.4)\n",
            "Requirement already satisfied: async-timeout<5.0,>=4.0.0a3 in /usr/local/lib/python3.10/dist-packages (from aiohttp!=4.0.0a0,!=4.0.0a1->fsspec[http]>2021.06.0->pytorch-lightning>=1.5.0->darts) (4.0.3)\n",
            "Requirement already satisfied: yarl<2.0,>=1.0 in /usr/local/lib/python3.10/dist-packages (from aiohttp!=4.0.0a0,!=4.0.0a1->fsspec[http]>2021.06.0->pytorch-lightning>=1.5.0->darts) (1.9.2)\n",
            "Requirement already satisfied: frozenlist>=1.1.1 in /usr/local/lib/python3.10/dist-packages (from aiohttp!=4.0.0a0,!=4.0.0a1->fsspec[http]>2021.06.0->pytorch-lightning>=1.5.0->darts) (1.4.0)\n",
            "Requirement already satisfied: aiosignal>=1.1.2 in /usr/local/lib/python3.10/dist-packages (from aiohttp!=4.0.0a0,!=4.0.0a1->fsspec[http]>2021.06.0->pytorch-lightning>=1.5.0->darts) (1.3.1)\n",
            "Collecting antlr4-python3-runtime<4.12 (from fugue-sql-antlr>=0.1.6->fugue>=0.8.1->statsforecast>=1.4->darts)\n",
            "  Downloading antlr4_python3_runtime-4.11.1-py3-none-any.whl (144 kB)\n",
            "\u001b[2K     \u001b[90m━━━━━━━━━━━━━━━━━━━━━━━━━━━━━━━━━━━━━━━━\u001b[0m \u001b[32m144.2/144.2 kB\u001b[0m \u001b[31m16.6 MB/s\u001b[0m eta \u001b[36m0:00:00\u001b[0m\n",
            "\u001b[?25hCollecting fs (from triad>=0.9.1->fugue>=0.8.1->statsforecast>=1.4->darts)\n",
            "  Downloading fs-2.4.16-py2.py3-none-any.whl (135 kB)\n",
            "\u001b[2K     \u001b[90m━━━━━━━━━━━━━━━━━━━━━━━━━━━━━━━━━━━━━━━━\u001b[0m \u001b[32m135.3/135.3 kB\u001b[0m \u001b[31m15.2 MB/s\u001b[0m eta \u001b[36m0:00:00\u001b[0m\n",
            "\u001b[?25hRequirement already satisfied: appdirs~=1.4.3 in /usr/local/lib/python3.10/dist-packages (from fs->triad>=0.9.1->fugue>=0.8.1->statsforecast>=1.4->darts) (1.4.4)\n",
            "Building wheels for collected packages: pyod, fugue-sql-antlr\n",
            "  Building wheel for pyod (setup.py) ... \u001b[?25l\u001b[?25hdone\n",
            "  Created wheel for pyod: filename=pyod-1.1.1-py3-none-any.whl size=190074 sha256=9d029019bd0be21eddd7bcb22df62a23f23fc4adae49ce1b89535819e2e29fcf\n",
            "  Stored in directory: /root/.cache/pip/wheels/a3/42/d7/48a53ffc1466bd63932f28583c64ebf442114db14a0bfa8c95\n",
            "  Building wheel for fugue-sql-antlr (setup.py) ... \u001b[?25l\u001b[?25hdone\n",
            "  Created wheel for fugue-sql-antlr: filename=fugue_sql_antlr-0.1.8-py3-none-any.whl size=158201 sha256=7dc14075ed363a182f2b11f110ed52f11d1741ac4aec51d66a2492011f08ae7f\n",
            "  Stored in directory: /root/.cache/pip/wheels/a4/2b/3e/8ac985ad100a8f27de940864344fe14f47bc3d2fed7f29bf70\n",
            "Successfully built pyod fugue-sql-antlr\n",
            "Installing collected packages: antlr4-python3-runtime, tensorboardX, slicer, lightning-utilities, fs, triad, torchmetrics, shap, pyod, nfoursid, pytorch-lightning, pmdarima, fugue-sql-antlr, adagio, tbats, qpd, fugue, statsforecast, darts\n",
            "Successfully installed adagio-0.2.4 antlr4-python3-runtime-4.11.1 darts-0.26.0 fs-2.4.16 fugue-0.8.6 fugue-sql-antlr-0.1.8 lightning-utilities-0.9.0 nfoursid-1.0.1 pmdarima-2.0.4 pyod-1.1.1 pytorch-lightning-2.1.0 qpd-0.4.4 shap-0.43.0 slicer-0.0.7 statsforecast-1.6.0 tbats-1.1.3 tensorboardX-2.6.2.2 torchmetrics-1.2.0 triad-0.9.1\n"
          ]
        }
      ]
    },
    {
      "cell_type": "code",
      "execution_count": null,
      "metadata": {
        "id": "izcX8p0YhAbY"
      },
      "outputs": [],
      "source": [
        "import numpy as np\n",
        "import pandas as pd\n",
        "import matplotlib.pyplot as plt\n",
        "\n",
        "import torch.optim as optim\n",
        "\n",
        "from sklearn.metrics import mean_squared_error, mean_absolute_error\n",
        "\n",
        "from darts import TimeSeries\n",
        "from darts.models import TCNModel, RNNModel\n",
        "from darts.dataprocessing.transformers import Scaler\n",
        "from darts.utils.timeseries_generation import datetime_attribute_timeseries\n",
        "from darts.metrics import mape, r2_score, mae, rmse, mse\n",
        "from darts.utils.missing_values import fill_missing_values\n",
        "from darts.datasets import AirPassengersDataset, SunspotsDataset, EnergyDataset"
      ]
    },
    {
      "cell_type": "code",
      "source": [
        "df = pd.read_csv('sensorsRecords_on.csv',  parse_dates=True, encoding = \"UTF-8\")\n",
        "df['date'] = pd.to_datetime(df['date'])\n",
        "df['date'] = df['date'].dt.tz_localize(None)\n",
        "df['date'] = df['date'].apply(lambda x: x.replace(minute=0, second=0, microsecond=0))\n",
        "df = df.groupby(['date'])['reading'].mean().reset_index()\n",
        "\n",
        "ts = TimeSeries.from_dataframe(df = df, time_col = 'date', value_cols = 'reading', freq = 'H')\n",
        "\n",
        "hour_series = datetime_attribute_timeseries(ts, attribute='hour', one_hot=True)\n",
        "\n",
        "train = ts[:-3000]\n",
        "train_hour = hour_series[:-3000]\n",
        "\n",
        "val = ts[-3000:]\n",
        "val_hour = hour_series[-3000:]\n",
        "\n",
        "\n",
        "ts = fill_missing_values(ts, fill='auto')\n",
        "train = fill_missing_values(train, fill='auto')\n",
        "train_hour = fill_missing_values(train_hour, fill='auto')\n",
        "val = fill_missing_values(val, fill='auto')\n",
        "val_hour = fill_missing_values(val_hour, fill='auto')\n",
        "\n",
        "\n",
        "plt.figure(figsize=(12, 6))\n",
        "plt.plot(ts.pd_dataframe(), label='Reading', color='blue')\n",
        "\n",
        "plt.title('Sensor Reading')\n",
        "plt.xlabel('Sample')\n",
        "plt.ylabel('Sensor Reading')\n",
        "plt.legend()\n",
        "plt.show()"
      ],
      "metadata": {
        "id": "CrMvftTicWoL"
      },
      "execution_count": null,
      "outputs": []
    },
    {
      "cell_type": "code",
      "source": [
        "weather_df = pd.read_csv('weather_silo_1.csv',  parse_dates=True)\n",
        "\n",
        "weather_df['date'] = pd.to_datetime(weather_df['date'])\n",
        "weather_df.set_index('date', inplace=True)\n",
        "\n",
        "hourly_weather_temp = weather_df['temperature'].resample('H').mean()\n",
        "\n",
        "plt.figure(figsize=(12, 6))\n",
        "plt.plot(hourly_weather_temp, label='Weather temperature', color='salmon')\n",
        "plt.plot(df['reading'], label='Sensor temperature', color='blue')\n",
        "\n",
        "plt.title('Sensor Reading vs Weather Data')\n",
        "plt.xlabel('Date')\n",
        "plt.ylabel('Temperature')\n",
        "plt.legend()\n",
        "plt.show()"
      ],
      "metadata": {
        "id": "6Lw-u1ZzTayf"
      },
      "execution_count": null,
      "outputs": []
    },
    {
      "cell_type": "markdown",
      "source": [
        "# Model 1"
      ],
      "metadata": {
        "id": "8CyRTYQec1zb"
      }
    },
    {
      "cell_type": "code",
      "execution_count": 1,
      "metadata": {
        "id": "eAcR8KuDhAbZ"
      },
      "outputs": [],
      "source": [
        "# model_0_1 = TCNModel(\n",
        "#     input_chunk_length=25,\n",
        "#     output_chunk_length=12\n",
        "#     )\n",
        "\n",
        "model_1 = TCNModel(\n",
        "    input_chunk_length=25,\n",
        "    output_chunk_length=12,\n",
        "    n_epochs=1000,\n",
        "    dropout=0.1,\n",
        "    dilation_base=2,\n",
        "    weight_norm=True,\n",
        "    kernel_size=5,\n",
        "    num_filters=64,\n",
        "    random_state=0,\n",
        "    model_name='model1_1000epochs',\n",
        "    save_checkpoints=True\n",
        ")"
      ]
    },
    {
      "cell_type": "code",
      "source": [
        "model_1.fit(series=train,\n",
        "              past_covariates=train_hour,\n",
        "              val_series=val,\n",
        "              val_past_covariates=val_hour,\n",
        "              verbose=True)"
      ],
      "metadata": {
        "id": "ZqjvOI9Bcjr3"
      },
      "execution_count": null,
      "outputs": []
    },
    {
      "cell_type": "code",
      "source": [
        "backtest = model_1.historical_forecasts(series=val,\n",
        "                                          past_covariates=hour_series,\n",
        "                                          forecast_horizon=6,\n",
        "                                          retrain=False,\n",
        "                                          verbose=False)"
      ],
      "metadata": {
        "id": "FC2_EqeacnrP"
      },
      "execution_count": null,
      "outputs": []
    },
    {
      "cell_type": "code",
      "source": [
        "backtest = fill_missing_values(backtest, fill='auto')\n",
        "predictions = backtest.pd_dataframe()\n",
        "predictions = predictions['reading'].values\n",
        "\n",
        "val1 = val.pd_dataframe()\n",
        "val1 = val1['reading'].values\n",
        "\n",
        "plt.figure(figsize=(12, 6))\n",
        "time_steps = range(len(predictions))\n",
        "\n",
        "plt.plot(range(len(val1)), val1, label='Actual Data', color='blue')\n",
        "plt.plot(range(len(predictions)), predictions, label='Predictions', color='red')\n",
        "\n",
        "plt.title('Sensor Reading Prediction vs Actual Data')\n",
        "plt.xlabel('Sample')\n",
        "plt.ylabel('Sensor Reading')\n",
        "plt.legend()\n",
        "y_values = [i for i in range(0, 50, 2)]\n",
        "plt.yticks(y_values)\n",
        "plt.show()"
      ],
      "metadata": {
        "id": "Cm6FXhHkcxpl"
      },
      "execution_count": null,
      "outputs": []
    },
    {
      "cell_type": "code",
      "source": [
        "mse = mean_squared_error(predictions, val1)\n",
        "rmse = np.sqrt(mse)\n",
        "print(\"Root Mean Squared Error (RMSE): \", rmse)\n",
        "\n",
        "mean_squared = mean_squared_error(val1, predictions)\n",
        "print('Mean Squared Error (MSE):', mean_squared)\n",
        "\n",
        "mean_absolute = mean_absolute_error(val1, predictions)\n",
        "print('Mean Absolute Error (MAE):', mean_absolute)\n",
        "\n",
        "from statsmodels.tsa.stattools import adfuller\n",
        "\n",
        "#ADF test on 'y'\n",
        "result_y = adfuller(val1)\n",
        "print(\"ADF Statistic for 'y':\", result_y[0])\n",
        "print(\"p-value for 'y':\", result_y[1])\n",
        "print(\"Critical Values for 'y':\", result_y[4])"
      ],
      "metadata": {
        "id": "GxDSsEJY5NhW"
      },
      "execution_count": null,
      "outputs": []
    },
    {
      "cell_type": "markdown",
      "source": [
        "# Model 2"
      ],
      "metadata": {
        "id": "GJBI6FNkc9DK"
      }
    },
    {
      "cell_type": "code",
      "execution_count": null,
      "metadata": {
        "id": "tbpMUl8Mc9DK"
      },
      "outputs": [],
      "source": [
        "model_2 = TCNModel(\n",
        "    input_chunk_length=25,\n",
        "    output_chunk_length=12,\n",
        "    n_epochs=1000,\n",
        "    dropout=0.4,\n",
        "    dilation_base=16,\n",
        "    weight_norm=True,\n",
        "    kernel_size=7,\n",
        "    num_filters=128,\n",
        "    random_state=0,\n",
        "    model_name='model2_1000epochs',\n",
        "    save_checkpoints=True\n",
        ")"
      ]
    },
    {
      "cell_type": "code",
      "source": [
        "model_2.fit(series=train,\n",
        "              past_covariates=train_hour,\n",
        "              val_series=val,\n",
        "              val_past_covariates=val_hour,\n",
        "              verbose=True)"
      ],
      "metadata": {
        "id": "249FtCwZc9DL"
      },
      "execution_count": null,
      "outputs": []
    },
    {
      "cell_type": "code",
      "source": [
        "backtest = model_2.historical_forecasts(series=val,\n",
        "                                          past_covariates=hour_series,\n",
        "                                          forecast_horizon = 6,\n",
        "                                          retrain=False,\n",
        "                                          verbose=False)"
      ],
      "metadata": {
        "id": "b8vzSMYLc9DL"
      },
      "execution_count": null,
      "outputs": []
    },
    {
      "cell_type": "code",
      "source": [
        "backtest = fill_missing_values(backtest, fill='auto')\n",
        "predictions = backtest.pd_dataframe()\n",
        "predictions = predictions['reading'].values\n",
        "\n",
        "val1 = val.pd_dataframe()\n",
        "val1 = val1['reading'].values\n",
        "\n",
        "plt.figure(figsize=(12, 6))\n",
        "\n",
        "plt.plot(range(len(val1)), val1, label='Actual Data', color='blue')\n",
        "plt.plot(range(len(predictions)), predictions, label='Predictions', color='red')\n",
        "\n",
        "plt.title('Sensor Reading Prediction vs Actual Data')\n",
        "plt.xlabel('Sample')\n",
        "plt.ylabel('Sensor Reading')\n",
        "plt.legend()\n",
        "plt.show()"
      ],
      "metadata": {
        "id": "puO95fCfc9DL"
      },
      "execution_count": null,
      "outputs": []
    },
    {
      "cell_type": "code",
      "source": [
        "mse = mean_squared_error(predictions, val1)\n",
        "rmse = np.sqrt(mse)\n",
        "print(\"Root Mean Squared Error (RMSE): \", rmse)\n",
        "\n",
        "mean_squared = mean_squared_error(val1, predictions)\n",
        "print('Mean Squared Error (MSE):', mean_squared)\n",
        "\n",
        "mean_absolute = mean_absolute_error(val1, predictions)\n",
        "print('Mean Absolute Error (MAE):', mean_absolute)\n",
        "\n",
        "from statsmodels.tsa.stattools import adfuller\n",
        "\n",
        "#ADF test on 'y'\n",
        "result_y = adfuller(val1)\n",
        "print(\"ADF Statistic for 'y':\", result_y[0])\n",
        "print(\"p-value for 'y':\", result_y[1])\n",
        "print(\"Critical Values for 'y':\", result_y[4])"
      ],
      "metadata": {
        "id": "ijTJK--xc9DL"
      },
      "execution_count": null,
      "outputs": []
    },
    {
      "cell_type": "markdown",
      "source": [
        "# Model 3"
      ],
      "metadata": {
        "id": "TPFIZu_QePCr"
      }
    },
    {
      "cell_type": "code",
      "execution_count": null,
      "metadata": {
        "id": "witoeA2QePCx"
      },
      "outputs": [],
      "source": [
        "model_3 = TCNModel(\n",
        "    input_chunk_length=25,\n",
        "    output_chunk_length=12,\n",
        "    n_epochs=1000,\n",
        "    dropout=0.8,\n",
        "    dilation_base=8,\n",
        "    weight_norm=True,\n",
        "    kernel_size=3,\n",
        "    num_filters=32,\n",
        "    random_state=0,\n",
        "    model_name='model3_1000epochs',\n",
        "    save_checkpoints=True\n",
        ")"
      ]
    },
    {
      "cell_type": "code",
      "source": [
        "model_3.fit(series=train,\n",
        "              past_covariates=train_hour,\n",
        "              val_series=val,\n",
        "              val_past_covariates=val_hour,\n",
        "              verbose=True)"
      ],
      "metadata": {
        "id": "oVTgHATXePCx"
      },
      "execution_count": null,
      "outputs": []
    },
    {
      "cell_type": "code",
      "source": [
        "backtest = model_3.historical_forecasts(series=val,\n",
        "                                          past_covariates=hour_series,\n",
        "                                          forecast_horizon = 6,\n",
        "                                          retrain=False,\n",
        "                                          verbose=False)"
      ],
      "metadata": {
        "id": "8uUcpM-7ePCx"
      },
      "execution_count": null,
      "outputs": []
    },
    {
      "cell_type": "code",
      "source": [
        "backtest = fill_missing_values(backtest, fill='auto')\n",
        "predictions = backtest.pd_dataframe()\n",
        "predictions = predictions['reading'].values\n",
        "\n",
        "val1 = val.pd_dataframe()\n",
        "val1 = val1['reading'].values\n",
        "\n",
        "plt.figure(figsize=(12, 6))\n",
        "\n",
        "plt.plot(range(len(val1)), val1, label='Actual Data', color='blue')\n",
        "plt.plot(range(len(predictions)), predictions, label='Predictions', color='red')\n",
        "\n",
        "plt.title('Sensor Reading Prediction vs Actual Data')\n",
        "plt.xlabel('Sample')\n",
        "plt.ylabel('Sensor Reading')\n",
        "plt.legend()\n",
        "plt.show()"
      ],
      "metadata": {
        "id": "E-z63IOJePCx"
      },
      "execution_count": null,
      "outputs": []
    },
    {
      "cell_type": "code",
      "source": [
        "mse = mean_squared_error(predictions, val1)\n",
        "rmse = np.sqrt(mse)\n",
        "print(\"Root Mean Squared Error (RMSE): \", rmse)\n",
        "\n",
        "mean_squared = mean_squared_error(val1, predictions)\n",
        "print('Mean Squared Error (MSE):', mean_squared)\n",
        "\n",
        "mean_absolute = mean_absolute_error(val1, predictions)\n",
        "print('Mean Absolute Error (MAE):', mean_absolute)\n",
        "\n",
        "from statsmodels.tsa.stattools import adfuller\n",
        "\n",
        "#ADF test on 'y'\n",
        "result_y = adfuller(val1)\n",
        "print(\"ADF Statistic for 'y':\", result_y[0])\n",
        "print(\"p-value for 'y':\", result_y[1])\n",
        "print(\"Critical Values for 'y':\", result_y[4])"
      ],
      "metadata": {
        "id": "3no_WaGGePCy"
      },
      "execution_count": null,
      "outputs": []
    }
  ],
  "metadata": {
    "kernelspec": {
      "display_name": "Python 3",
      "language": "python",
      "name": "python3"
    },
    "language_info": {
      "codemirror_mode": {
        "name": "ipython",
        "version": 3
      },
      "file_extension": ".py",
      "mimetype": "text/x-python",
      "name": "python",
      "nbconvert_exporter": "python",
      "pygments_lexer": "ipython3",
      "version": "3.8.5"
    },
    "colab": {
      "provenance": []
    }
  },
  "nbformat": 4,
  "nbformat_minor": 0
}